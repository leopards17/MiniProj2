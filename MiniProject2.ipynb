{
 "cells": [
  {
   "cell_type": "markdown",
   "metadata": {},
   "source": [
    "## Mini Project 2"
   ]
  },
  {
   "cell_type": "code",
   "execution_count": 1,
   "metadata": {},
   "outputs": [],
   "source": [
    "import requests\n",
    "import pandas as pd\n",
    "import sqlite3\n",
    "import lxml.html\n",
    "from bs4 import BeautifulSoup"
   ]
  },
  {
   "cell_type": "markdown",
   "metadata": {},
   "source": [
    "### I'm using soup to connect to one of the few websites available that has an entirely text based table. Surprisingly uncommon, as I've been through twenty tables that have spooky \"elements\" rather than text that Jupyter doesn't like scraping off of websites."
   ]
  },
  {
   "cell_type": "code",
   "execution_count": 2,
   "metadata": {},
   "outputs": [],
   "source": [
    "url = \"https://www.dltk-kids.com/poKEmon/pokelist.htm\"\n",
    "r=requests.get(url)"
   ]
  },
  {
   "cell_type": "code",
   "execution_count": 3,
   "metadata": {},
   "outputs": [
    {
     "data": {
      "text/plain": [
       "387"
      ]
     },
     "execution_count": 3,
     "metadata": {},
     "output_type": "execute_result"
    }
   ],
   "source": [
    "soup = BeautifulSoup(r.content,\"html.parser\")\n",
    "table = soup.find('table')\n",
    "rows = table.find_all('tr')\n",
    "len(rows)"
   ]
  },
  {
   "cell_type": "markdown",
   "metadata": {},
   "source": [
    "### The count checks out, as there are 386 rows of data as well as a header row."
   ]
  },
  {
   "cell_type": "code",
   "execution_count": 4,
   "metadata": {},
   "outputs": [],
   "source": [
    "newTable = []\n",
    "for row in rows:\n",
    "    cols = row.find_all('td')\n",
    "    newTable.append((cols[0].text.strip(), cols[1].text.strip(), cols[2].text.strip(), cols[3].text.strip()))"
   ]
  },
  {
   "cell_type": "markdown",
   "metadata": {},
   "source": [
    "### Now that we've created a table by appending the text to our data, we can convert the table into a Data Frame that we can manipulate."
   ]
  },
  {
   "cell_type": "code",
   "execution_count": 5,
   "metadata": {},
   "outputs": [
    {
     "data": {
      "text/html": [
       "<div>\n",
       "<style scoped>\n",
       "    .dataframe tbody tr th:only-of-type {\n",
       "        vertical-align: middle;\n",
       "    }\n",
       "\n",
       "    .dataframe tbody tr th {\n",
       "        vertical-align: top;\n",
       "    }\n",
       "\n",
       "    .dataframe thead th {\n",
       "        text-align: right;\n",
       "    }\n",
       "</style>\n",
       "<table border=\"1\" class=\"dataframe\">\n",
       "  <thead>\n",
       "    <tr style=\"text-align: right;\">\n",
       "      <th></th>\n",
       "      <th>Number</th>\n",
       "      <th>Pokemon</th>\n",
       "      <th>Type1</th>\n",
       "      <th>Type2</th>\n",
       "    </tr>\n",
       "  </thead>\n",
       "  <tbody>\n",
       "    <tr>\n",
       "      <th>0</th>\n",
       "      <td>#</td>\n",
       "      <td>Pokemon</td>\n",
       "      <td>Type 1</td>\n",
       "      <td>Type 2</td>\n",
       "    </tr>\n",
       "    <tr>\n",
       "      <th>1</th>\n",
       "      <td>63</td>\n",
       "      <td>Abra</td>\n",
       "      <td>Psychic</td>\n",
       "      <td>-</td>\n",
       "    </tr>\n",
       "    <tr>\n",
       "      <th>2</th>\n",
       "      <td>359</td>\n",
       "      <td>Absol</td>\n",
       "      <td>Dark</td>\n",
       "      <td>-</td>\n",
       "    </tr>\n",
       "    <tr>\n",
       "      <th>3</th>\n",
       "      <td>142</td>\n",
       "      <td>Aerodactyl</td>\n",
       "      <td>Rock</td>\n",
       "      <td>Flying</td>\n",
       "    </tr>\n",
       "    <tr>\n",
       "      <th>4</th>\n",
       "      <td>306</td>\n",
       "      <td>Aggron</td>\n",
       "      <td>Steel</td>\n",
       "      <td>Rock</td>\n",
       "    </tr>\n",
       "  </tbody>\n",
       "</table>\n",
       "</div>"
      ],
      "text/plain": [
       "  Number     Pokemon    Type1   Type2\n",
       "0      #     Pokemon   Type 1  Type 2\n",
       "1     63        Abra  Psychic       -\n",
       "2    359       Absol     Dark       -\n",
       "3    142  Aerodactyl     Rock  Flying\n",
       "4    306      Aggron    Steel    Rock"
      ]
     },
     "execution_count": 5,
     "metadata": {},
     "output_type": "execute_result"
    }
   ],
   "source": [
    "dfPre = pd.DataFrame(newTable)\n",
    "dfPre.columns = [\"Number\", \"Pokemon\", \"Type1\", \"Type2\"]\n",
    "dfPre.head()"
   ]
  },
  {
   "cell_type": "markdown",
   "metadata": {},
   "source": [
    "### All that needs to be done now is to drop the dummy header row."
   ]
  },
  {
   "cell_type": "code",
   "execution_count": 6,
   "metadata": {},
   "outputs": [
    {
     "data": {
      "text/html": [
       "<div>\n",
       "<style scoped>\n",
       "    .dataframe tbody tr th:only-of-type {\n",
       "        vertical-align: middle;\n",
       "    }\n",
       "\n",
       "    .dataframe tbody tr th {\n",
       "        vertical-align: top;\n",
       "    }\n",
       "\n",
       "    .dataframe thead th {\n",
       "        text-align: right;\n",
       "    }\n",
       "</style>\n",
       "<table border=\"1\" class=\"dataframe\">\n",
       "  <thead>\n",
       "    <tr style=\"text-align: right;\">\n",
       "      <th></th>\n",
       "      <th>Number</th>\n",
       "      <th>Pokemon</th>\n",
       "      <th>Type1</th>\n",
       "      <th>Type2</th>\n",
       "    </tr>\n",
       "  </thead>\n",
       "  <tbody>\n",
       "    <tr>\n",
       "      <th>1</th>\n",
       "      <td>63</td>\n",
       "      <td>Abra</td>\n",
       "      <td>Psychic</td>\n",
       "      <td>-</td>\n",
       "    </tr>\n",
       "    <tr>\n",
       "      <th>2</th>\n",
       "      <td>359</td>\n",
       "      <td>Absol</td>\n",
       "      <td>Dark</td>\n",
       "      <td>-</td>\n",
       "    </tr>\n",
       "    <tr>\n",
       "      <th>3</th>\n",
       "      <td>142</td>\n",
       "      <td>Aerodactyl</td>\n",
       "      <td>Rock</td>\n",
       "      <td>Flying</td>\n",
       "    </tr>\n",
       "    <tr>\n",
       "      <th>4</th>\n",
       "      <td>306</td>\n",
       "      <td>Aggron</td>\n",
       "      <td>Steel</td>\n",
       "      <td>Rock</td>\n",
       "    </tr>\n",
       "    <tr>\n",
       "      <th>5</th>\n",
       "      <td>190</td>\n",
       "      <td>Aipom</td>\n",
       "      <td>Normal</td>\n",
       "      <td>-</td>\n",
       "    </tr>\n",
       "  </tbody>\n",
       "</table>\n",
       "</div>"
      ],
      "text/plain": [
       "  Number     Pokemon    Type1   Type2\n",
       "1     63        Abra  Psychic       -\n",
       "2    359       Absol     Dark       -\n",
       "3    142  Aerodactyl     Rock  Flying\n",
       "4    306      Aggron    Steel    Rock\n",
       "5    190       Aipom   Normal       -"
      ]
     },
     "execution_count": 6,
     "metadata": {},
     "output_type": "execute_result"
    }
   ],
   "source": [
    "df = dfPre.drop(0)\n",
    "df.head()"
   ]
  },
  {
   "cell_type": "markdown",
   "metadata": {},
   "source": [
    "### We now have a Data Frame with the requisite 386 rows. With this, we're ready to connect to sqlite and upload our data."
   ]
  },
  {
   "cell_type": "code",
   "execution_count": 7,
   "metadata": {},
   "outputs": [
    {
     "name": "stdout",
     "output_type": "stream",
     "text": [
      "('359', 'Absol', 'Dark', '-')\n",
      "('306', 'Aggron', 'Steel', 'Rock')\n",
      "('304', 'Aron', 'Steel', 'Rock')\n",
      "('374', 'Beldum', 'Steel', 'Psychic')\n",
      "('205', 'Foretress', 'Steel', 'Bug')\n",
      "('229', 'Houndoom', 'Dark', 'Fire')\n",
      "('228', 'Houndour', 'Dark', 'Fire')\n",
      "('385', 'Jirachi', 'Steel', 'Psychic')\n",
      "('305', 'Lairon', 'Steel', 'Rock')\n",
      "('303', 'Mawile', 'Steel', '-')\n",
      "('376', 'Metagross', 'Steel', 'Psychic')\n",
      "('375', 'Metang', 'Steel', 'Psychic')\n",
      "('262', 'Mightyena', 'Dark', '-')\n",
      "('198', 'Murkrow', 'Dark', 'Flying')\n",
      "('261', 'Poochyena', 'Dark', '-')\n",
      "('379', 'Registeel', 'Steel', '-')\n",
      "('302', 'Sapleye', 'Dark', 'Ghost')\n",
      "('227', 'Skarmony', 'Steel', 'Flying')\n",
      "('215', 'Sneazle\\xa0\\xa0 \\r\\n\\t\\t\\t\\t\\t*fan*', 'Dark', 'Ice')\n",
      "('208', 'Steelix', 'Steel', 'Ground')\n",
      "('197', 'Umbreon', 'Dark', '-')\n",
      "('263', 'Zigzagoon', 'Dark', '-')\n"
     ]
    }
   ],
   "source": [
    "db=sqlite3.connect(\":memory:\")\n",
    "cursor=db.cursor()\n",
    "cursor.execute(\"\"\"\n",
    "CREATE TABLE PLIST(NUMBER, POKEMON, TYPE1, TYPE2)\n",
    "\"\"\")\n",
    "\n",
    "for row in df[df.Type1.isin([\"Dark\",\"Steel\"])].itertuples():\n",
    "    print (row[1:])"
   ]
  },
  {
   "cell_type": "code",
   "execution_count": 8,
   "metadata": {},
   "outputs": [],
   "source": [
    "DarkSteel = df[df.Type1.isin([\"Dark\",\"Steel\"])]"
   ]
  },
  {
   "cell_type": "code",
   "execution_count": 9,
   "metadata": {},
   "outputs": [
    {
     "name": "stdout",
     "output_type": "stream",
     "text": [
      "('359', 'Absol', 'Dark', '-')\n",
      "('306', 'Aggron', 'Steel', 'Rock')\n",
      "('304', 'Aron', 'Steel', 'Rock')\n",
      "('374', 'Beldum', 'Steel', 'Psychic')\n",
      "('205', 'Foretress', 'Steel', 'Bug')\n",
      "('229', 'Houndoom', 'Dark', 'Fire')\n",
      "('228', 'Houndour', 'Dark', 'Fire')\n",
      "('385', 'Jirachi', 'Steel', 'Psychic')\n",
      "('305', 'Lairon', 'Steel', 'Rock')\n",
      "('303', 'Mawile', 'Steel', '-')\n",
      "('376', 'Metagross', 'Steel', 'Psychic')\n",
      "('375', 'Metang', 'Steel', 'Psychic')\n",
      "('262', 'Mightyena', 'Dark', '-')\n",
      "('198', 'Murkrow', 'Dark', 'Flying')\n",
      "('261', 'Poochyena', 'Dark', '-')\n",
      "('379', 'Registeel', 'Steel', '-')\n",
      "('302', 'Sapleye', 'Dark', 'Ghost')\n",
      "('227', 'Skarmony', 'Steel', 'Flying')\n",
      "('215', 'Sneazle\\xa0\\xa0 \\r\\n\\t\\t\\t\\t\\t*fan*', 'Dark', 'Ice')\n",
      "('208', 'Steelix', 'Steel', 'Ground')\n",
      "('197', 'Umbreon', 'Dark', '-')\n",
      "('263', 'Zigzagoon', 'Dark', '-')\n"
     ]
    }
   ],
   "source": [
    "for row in DarkSteel.itertuples():\n",
    "    insertSQLsyntax = \"\"\"\n",
    "    INSERT INTO PLIST(NUMBER, POKEMON, TYPE1, TYPE2)\n",
    "    VALUES (?,?,?,?)\n",
    "    \"\"\"\n",
    "    cursor.execute(insertSQLsyntax, row[1:])\n",
    "    print(row[1:])\n",
    "db.commit()"
   ]
  },
  {
   "cell_type": "markdown",
   "metadata": {},
   "source": [
    "### Yes, the data is misspelled, has typos everywhere, and features strange hyperlinks in some of the name cells (see Sneazle\\xa0...?) , but we still get something usable outputted into our mySQL table. For a sample exercise it works, especially because every other table I tried had elements that didn't play nicely with mySQL's scraping abilities. I've learned you take what you can get."
   ]
  },
  {
   "cell_type": "code",
   "execution_count": 10,
   "metadata": {},
   "outputs": [
    {
     "name": "stdout",
     "output_type": "stream",
     "text": [
      "('198', 'Murkrow', 'Dark', 'Flying')\n",
      "('227', 'Skarmony', 'Steel', 'Flying')\n"
     ]
    }
   ],
   "source": [
    "for row in cursor.execute(\"\"\"\n",
    "    SELECT *\n",
    "    FROM PLIST\n",
    "    WHERE TYPE2 = 'Flying'\n",
    "\"\"\"):\n",
    "        print(row)"
   ]
  },
  {
   "cell_type": "markdown",
   "metadata": {},
   "source": [
    "### That's how we get SQL to print out a list of every Pokemon whose first type is Dark or Steel type and is also part Flying. "
   ]
  },
  {
   "cell_type": "code",
   "execution_count": 11,
   "metadata": {},
   "outputs": [],
   "source": [
    "db.close()"
   ]
  },
  {
   "cell_type": "code",
   "execution_count": null,
   "metadata": {},
   "outputs": [],
   "source": []
  }
 ],
 "metadata": {
  "kernelspec": {
   "display_name": "Python 3",
   "language": "python",
   "name": "python3"
  },
  "language_info": {
   "codemirror_mode": {
    "name": "ipython",
    "version": 3
   },
   "file_extension": ".py",
   "mimetype": "text/x-python",
   "name": "python",
   "nbconvert_exporter": "python",
   "pygments_lexer": "ipython3",
   "version": "3.6.5"
  }
 },
 "nbformat": 4,
 "nbformat_minor": 2
}
